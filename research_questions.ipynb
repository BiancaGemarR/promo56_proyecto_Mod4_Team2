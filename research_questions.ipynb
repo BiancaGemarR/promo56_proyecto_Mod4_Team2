{
 "cells": [
  {
   "cell_type": "markdown",
   "id": "f76c3e0c",
   "metadata": {},
   "source": [
    "## 📊 Preguntas"
   ]
  },
  {
   "cell_type": "markdown",
   "id": "32d55034",
   "metadata": {},
   "source": [
    "CO2\n",
    "\n",
    "### BIANCA - CO2\n",
    "### 1. País/es con más y menos emisiones de CO₂\n",
    "\n",
    "Name (país) / year (para comparar en un año o a lo largo del tiempo) /co2 (emisiones totales de CO₂)\n",
    "\n",
    "### 2. Distribución de CO₂ por continentes\n",
    "\n",
    "Continent/year/co2 -> Agregando sum por continente y año\n",
    "\n",
    "### ANA - CO2\n",
    "### 3. Relación de emisiones de CO₂ y población por país/continente\n",
    "\n",
    "Name y/o Continent/year/co2/population -> co2_per_capita (ya te da el cociente directo).\n",
    "\n",
    "### ZARA - TEMPERATURA\n",
    "\n",
    "### 4. Relaciones entre temperatura y emisiones de CO₂ a través de los años\n",
    "\n",
    "year/co2 (u otra fuente específica si quieres desglosar carbón/gas/petróleo) -> temperature_change_from_co2 y temperature_change_from_ghg para ver el total\n",
    "\n",
    "### 5. Relación de emisión de CO₂ en España y por regiones/continentes y aumento de la temperatura\n",
    "\n",
    "Name (para filtrar España) / Continent (para comparar con su región) / year\n",
    "co2 -> temperature_change_from_co2 o temperature_change_from_ghg (para ver el efecto en el aumento de temperatura).\n",
    "\n",
    "### GABRIELA - ENERGIA\n",
    "\n",
    "### 6. Relaciones con emisiones de CO₂ y primary energy consumption\n",
    "\n",
    "year/Name o Continent/co2/ primary_energy_consumption -> (Opcional) energy_per_capita y energy_per_gdp (para enriquecer el análisis de eficiencia)"
   ]
  },
  {
   "cell_type": "markdown",
   "id": "f7f0ac6d",
   "metadata": {},
   "source": [
    "### _______________________________________________________________"
   ]
  },
  {
   "cell_type": "markdown",
   "id": "5f54400a",
   "metadata": {},
   "source": [
    "## 📊 Research Questions and Required Columns\n",
    "\n",
    "### 1. Which countries contribute the most and the least to global CO₂ emissions?\n",
    "- Columns: `Name`, `year`, `co2`  \n",
    "\n",
    "### 2. How are CO₂ emissions distributed across continents and regions?\n",
    "- Columns: `Continent`, `year`, `co2`  \n",
    "- Aggregate CO₂ by continent/region and year.  \n",
    "\n",
    "### 3. What is the relationship between CO₂ emissions and primary energy consumption across time and regions?\n",
    "- Columns: `Name` or `Continent`, `year`, `co2`, `primary_energy_consumption`  \n",
    "- (Optional) `energy_per_capita`, `energy_per_gdp` for efficiency insights.  \n",
    "\n",
    "### 4. How do CO₂ emissions correlate with global temperature change over the years?\n",
    "- Columns: `year`, `co2`, `temperature_change_from_co2`  \n",
    "- (Optional) `temperature_change_from_ghg` to include all greenhouse gases.  \n",
    "\n",
    "### 5. How does Spain’s CO₂ emissions trend compare with other regions in relation to temperature increase?\n",
    "- Columns: `Name` (to filter Spain), `Continent`, `year`, `co2`, `temperature_change_from_co2` or `temperature_change_from_ghg`.  \n",
    "\n",
    "### 6. What is the relationship between CO₂ emissions and population, both at country and continental level?\n",
    "- Columns: `Name`, `Continent`, `year`, `co2`, `population`  \n",
    "- (Optional) `co2_per_capita` for direct per-person values.  \n"
   ]
  },
  {
   "cell_type": "markdown",
   "id": "18201482",
   "metadata": {},
   "source": [
    "## Key Indicators (KPIs) for Research Questions\n",
    "\n",
    "The following variables are the most relevant for analyzing CO₂ emissions, energy use, and their link with temperature change.\n",
    "\n",
    "### 🌍 CO₂ Emissions\n",
    "- **`co2`** → Total CO₂ emissions (excluding land-use change).  \n",
    "- **`co2_including_luc`** → Total CO₂ emissions including land-use change (LUC).  \n",
    "- **`co2_growth_abs`** → Absolute growth of CO₂ compared to the previous year.  \n",
    "- **`co2_growth_prct`** → Percentage growth of CO₂ compared to the previous year.  \n",
    "- **`co2_per_capita`** → CO₂ emissions per person.  \n",
    "- **`co2_per_gdp`** → CO₂ emissions per unit of GDP.  \n",
    "- **`share_global_co2`** → Country’s share of global CO₂ emissions.  \n",
    "- **`share_global_cumulative_co2`** → Country’s historical cumulative share of global CO₂ emissions.  \n",
    "\n",
    "### 🛒 CO₂ from Consumption and Trade\n",
    "- **`consumption_co2`** → CO₂ linked to domestic consumption (adjusted for imports/exports).  \n",
    "- **`consumption_co2_per_capita`** → Consumption-based CO₂ per person.  \n",
    "- **`consumption_co2_per_gdp`** → Consumption-based CO₂ per unit of GDP.  \n",
    "\n",
    "### 📈 Historical (Cumulative) Emissions\n",
    "- **`cumulative_co2`** → Total historical CO₂ emissions.  \n",
    "- **`cumulative_co2_including_luc`** → Historical CO₂ emissions including land-use change.  \n",
    "\n",
    "### 🌡️ Temperature-Related Indicators\n",
    "- **`share_of_temperature_change_from_ghg`** → Percentage of global temperature change attributable to GHGs.  \n",
    "- **`temperature_change_from_co2`** → Global temperature change attributable specifically to CO₂.  \n",
    "\n",
    "### ⚡ Energy Use\n",
    "- **`primary_energy_consumption`** → Total primary energy consumption.  \n",
    "- **`energy_per_capita`** → Energy consumption per person.  \n",
    "- **`energy_per_gdp`** → Energy consumption per unit of GDP.  \n"
   ]
  }
 ],
 "metadata": {
  "language_info": {
   "name": "python"
  }
 },
 "nbformat": 4,
 "nbformat_minor": 5
}
