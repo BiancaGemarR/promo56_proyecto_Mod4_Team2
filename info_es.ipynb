{
 "cells": [
  {
   "cell_type": "markdown",
   "id": "73d3dd94",
   "metadata": {},
   "source": [
    "## 📘 Glossary of Dataset Variables"
   ]
  },
  {
   "cell_type": "markdown",
   "id": "ccc3c4e6",
   "metadata": {},
   "source": [
    "### 🔹 Identificación del país y año"
   ]
  },
  {
   "cell_type": "markdown",
   "id": "0f10489d",
   "metadata": {},
   "source": [
    "| **Columna**   | **Descripción**                                                                |\n",
    "| ------------- | ------------------------------------------------------------------------------ |\n",
    "| `Description` | Descripción del país o territorio.                                             |\n",
    "| `Name`        | Nombre del país.                                                               |\n",
    "| `year`        | Año de referencia de los datos.                                                |\n",
    "| `iso_code`    | Código de tres letras asignado al país (ej. ESP para España, BRA para Brasil). |\n",
    "| `Continent`   | Continente al que pertenece el país.                                           |\n"
   ]
  },
  {
   "cell_type": "markdown",
   "id": "64669820",
   "metadata": {},
   "source": [
    "### 👥 Población y economía"
   ]
  },
  {
   "cell_type": "markdown",
   "id": "0b177dca",
   "metadata": {},
   "source": [
    "| **Columna**  | **Descripción**                                                                     |\n",
    "| ------------ | ----------------------------------------------------------------------------------- |\n",
    "| `population` | Número total de habitantes en el país ese año.                                      |\n",
    "| `gdp`        | Producto Interno Bruto (PIB), en dólares constantes. Mide el tamaño de la economía. |\n"
   ]
  },
  {
   "cell_type": "markdown",
   "id": "caea8959",
   "metadata": {},
   "source": [
    "### 🌍 Emisiones de dióxido de carbono (CO₂)"
   ]
  },
  {
   "cell_type": "markdown",
   "id": "911e0e0b",
   "metadata": {},
   "source": [
    "| **Columna**         | **Descripción**                                                                 |\n",
    "| ------------------- | ------------------------------------------------------------------------------- |\n",
    "| `co2`               | Emisiones totales de CO₂ (excluyendo cambio de uso de la tierra).               |\n",
    "| `co2_including_luc` | Emisiones de CO₂ incluyendo cambio de uso de la tierra (ej. deforestación).     |\n",
    "| `co2_per_capita`    | CO₂ emitido por persona.                                                        |\n",
    "| `co2_per_gdp`       | CO₂ emitido por cada unidad de PIB (eficiencia económica respecto a emisiones). |\n",
    "| `co2_growth_abs`    | Variación absoluta de emisiones de CO₂ respecto al año anterior.                |\n",
    "| `co2_growth_prct`   | Variación porcentual de emisiones de CO₂ respecto al año anterior.              |\n"
   ]
  },
  {
   "cell_type": "markdown",
   "id": "1053fa17",
   "metadata": {},
   "source": [
    "### 🔥 Fuentes de CO₂"
   ]
  },
  {
   "cell_type": "markdown",
   "id": "c4b63994",
   "metadata": {},
   "source": [
    "| **Columna**           | **Descripción**                                                                                                          |\n",
    "| --------------------- | ------------------------------------------------------------------------------------------------------------------------ |\n",
    "| `coal_co2`            | Emisiones por uso de carbón.                                                                                             |\n",
    "| `gas_co2`             | Emisiones por uso de gas natural.                                                                                        |\n",
    "| `oil_co2`             | Emisiones por uso de petróleo.                                                                                           |\n",
    "| `cement_co2`          | Emisiones derivadas de la producción de cemento.                                                                         |\n",
    "| `flaring_co2`         | Emisiones por la quema de gas en antorchas (gas sobrante de pozos petroleros).                                           |\n",
    "| `land_use_change_co2` | CO₂ liberado por cambio de uso de la tierra (ej. deforestación).                                                         |\n",
    "| `other_industry_co2`  | Emisiones de CO₂ de otras actividades industriales.                                                                      |\n",
    "| `consumption_co2`     | Emisiones asociadas al consumo interno (incluye comercio).                                                               |\n",
    "| `trade_co2`           | Balance de CO₂ asociado al comercio internacional (ej. si un país importa bienes producidos con alta huella de carbono). |\n"
   ]
  },
  {
   "cell_type": "markdown",
   "id": "a1c11f83",
   "metadata": {},
   "source": [
    "### 📈 Emisiones acumuladas (históricas)"
   ]
  },
  {
   "cell_type": "markdown",
   "id": "a8a2cb14",
   "metadata": {},
   "source": [
    "| **Columna**                    | **Descripción**                                             |\n",
    "| ------------------------------ | ----------------------------------------------------------- |\n",
    "| `cumulative_co2`               | Emisiones acumuladas de CO₂ en toda la historia.            |\n",
    "| `cumulative_co2_including_luc` | Emisiones acumuladas incluyendo cambio de uso de la tierra. |\n",
    "| `cumulative_coal_co2`          | Emisiones históricas por carbón.                            |\n",
    "| `cumulative_gas_co2`           | Emisiones históricas por gas.                               |\n",
    "| `cumulative_oil_co2`           | Emisiones históricas por petróleo.                          |\n",
    "| `cumulative_cement_co2`        | Emisiones históricas por cemento.                           |\n",
    "| `cumulative_flaring_co2`       | Emisiones históricas por quema de gas en antorchas.         |\n",
    "| `cumulative_luc_co2`           | Emisiones históricas por cambio de uso de la tierra.        |\n",
    "| `cumulative_other_co2`         | Emisiones históricas de otras fuentes industriales.         |\n"
   ]
  },
  {
   "cell_type": "markdown",
   "id": "6e15aec3",
   "metadata": {},
   "source": [
    "### ⚡ Energía"
   ]
  },
  {
   "cell_type": "markdown",
   "id": "dbbbb9bb",
   "metadata": {},
   "source": [
    "| **Columna**                  | **Descripción**                                                                 |\n",
    "| ---------------------------- | ------------------------------------------------------------------------------- |\n",
    "| `primary_energy_consumption` | Consumo total de energía primaria (carbón, petróleo, gas, renovables, nuclear). |\n",
    "| `energy_per_capita`          | Consumo de energía por persona.                                                 |\n",
    "| `energy_per_gdp`             | Energía consumida por cada unidad de PIB (eficiencia energética).               |\n"
   ]
  },
  {
   "cell_type": "markdown",
   "id": "f6893340",
   "metadata": {},
   "source": [
    "### 🌱 Otros gases de efecto invernadero"
   ]
  },
  {
   "cell_type": "markdown",
   "id": "b4a9772d",
   "metadata": {},
   "source": [
    "| **Columna**                | **Descripción**                                                                           |\n",
    "| -------------------------- | ----------------------------------------------------------------------------------------- |\n",
    "| `methane`                  | Emisiones de metano (CH₄), gas con efecto 28 veces más fuerte que el CO₂ en 100 años.     |\n",
    "| `nitrous_oxide`            | Emisiones de óxido nitroso (N₂O), 273 veces más potente que el CO₂.                       |\n",
    "| `total_ghg`                | Emisiones totales de gases de efecto invernadero (incluyendo cambio de uso de la tierra). |\n",
    "| `total_ghg_excluding_lucf` | Emisiones totales excluyendo cambio de uso de la tierra.                                  |\n",
    "| `ghg_per_capita`           | Emisiones de gases de efecto invernadero por persona.                                     |\n"
   ]
  },
  {
   "cell_type": "markdown",
   "id": "bee653f8",
   "metadata": {},
   "source": [
    "### 🌡️ Cambio de temperatura"
   ]
  },
  {
   "cell_type": "markdown",
   "id": "8a4505de",
   "metadata": {},
   "source": [
    "| **Columna**                            | **Descripción**                                            |\n",
    "| -------------------------------------- | ---------------------------------------------------------- |\n",
    "| `temperature_change_from_co2`          | Cambio de temperatura atribuible al CO₂.                   |\n",
    "| `temperature_change_from_ch4`          | Cambio de temperatura atribuible al CH₄.                   |\n",
    "| `temperature_change_from_n2o`          | Cambio de temperatura atribuible al N₂O.                   |\n",
    "| `temperature_change_from_ghg`          | Cambio de temperatura atribuible al total de GEI.          |\n",
    "| `share_of_temperature_change_from_ghg` | Porcentaje del calentamiento global explicado por los GEI. |\n"
   ]
  },
  {
   "cell_type": "markdown",
   "id": "64b7fd60",
   "metadata": {},
   "source": [
    "### 🌐 Participación global"
   ]
  },
  {
   "cell_type": "markdown",
   "id": "6560de78",
   "metadata": {},
   "source": [
    "| **Columna**                      | **Descripción**                                                         |\n",
    "| -------------------------------- | ----------------------------------------------------------------------- |\n",
    "| `share_global_co2`               | Participación del país en las emisiones globales de CO₂.                |\n",
    "| `share_global_co2_including_luc` | Participación global de CO₂ incluyendo cambio de uso de la tierra.      |\n",
    "| `share_global_cement_co2`        | Participación global del cemento.                                       |\n",
    "| `share_global_coal_co2`          | Participación global del carbón.                                        |\n",
    "| `share_global_gas_co2`           | Participación global del gas.                                           |\n",
    "| `share_global_oil_co2`           | Participación global del petróleo.                                      |\n",
    "| `share_global_luc_co2`           | Participación global del cambio de uso de la tierra.                    |\n",
    "| `share_global_other_co2`         | Participación global de otras industrias.                               |\n",
    "| `share_global_cumulative_co2`    | Participación histórica acumulada del país en emisiones de CO₂.         |\n",
    "| `share_global_cumulative_*`      | Variantes históricas acumuladas (carbón, gas, petróleo, cemento, etc.). |\n"
   ]
  }
 ],
 "metadata": {
  "language_info": {
   "name": "python"
  }
 },
 "nbformat": 4,
 "nbformat_minor": 5
}
