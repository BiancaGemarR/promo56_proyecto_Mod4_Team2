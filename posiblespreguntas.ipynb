{
 "cells": [
  {
   "cell_type": "markdown",
   "id": "22bc0e1d",
   "metadata": {},
   "source": [
    "1. País/es con más y menos emisiones de co2\n",
    "2. Distribución de co2 por continentes\n",
    "3. Relaciones con emisiones de co2 y primary-enery-consumption\n",
    "4. Relaciones entre temperatura y emisiones de co2 a través de los años\n",
    "5. Relación de emisión de co2 en España y por regiones/continentes y aumento de la temperatura\n",
    "6. Relación de emisiones de co2 y población por (país, continente).\n"
   ]
  },
  {
   "cell_type": "markdown",
   "id": "5f54400a",
   "metadata": {},
   "source": [
    "1. Which countries contribute the most and the least to global CO₂ emissions?\n",
    "2. How are CO₂ emissions distributed across continents and regions?\n",
    "3. What is the relationship between CO₂ emissions and primary energy consumption across time and regions?\n",
    "4. How do CO₂ emissions correlate with global temperature change over the years?\n",
    "5. How does Spain’s CO₂ emissions trend compare with other regions in relation to temperature increase?\n",
    "6. What is the relationship between CO₂ emissions and population, both at country and continental level?"
   ]
  }
 ],
 "metadata": {
  "language_info": {
   "name": "python"
  }
 },
 "nbformat": 4,
 "nbformat_minor": 5
}
