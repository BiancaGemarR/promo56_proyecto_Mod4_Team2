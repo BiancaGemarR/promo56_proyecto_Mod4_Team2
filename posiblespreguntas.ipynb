{
 "cells": [
  {
   "cell_type": "markdown",
   "id": "22bc0e1d",
   "metadata": {},
   "source": [
    "1. País/es con más y menos emisiones de co2\n",
    "2. Distribución de co2 por continentes\n",
    "3. Relaciones con emisiones de co2 y primary-enery-consumption\n",
    "4. Relaciones entre temperatura y emisiones de co2 a través de los años\n",
    "5. Relación de emisión de co2 en esp y por continentes y augmento de la temperatura\n",
    "6. Relación de emisiones de co2 y población por (país, continente).\n"
   ]
  }
 ],
 "metadata": {
  "language_info": {
   "name": "python"
  }
 },
 "nbformat": 4,
 "nbformat_minor": 5
}
